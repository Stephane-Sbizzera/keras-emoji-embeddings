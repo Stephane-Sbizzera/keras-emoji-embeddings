{
 "cells": [
  {
   "cell_type": "markdown",
   "metadata": {},
   "source": [
    "## Import packages"
   ]
  },
  {
   "cell_type": "code",
   "execution_count": 1,
   "metadata": {
    "collapsed": false
   },
   "outputs": [
    {
     "name": "stderr",
     "output_type": "stream",
     "text": [
      "Using Theano backend.\n"
     ]
    }
   ],
   "source": [
    "%matplotlib inline\n",
    "from __future__ import print_function\n",
    "\n",
    "import sys\n",
    "import pandas as pd\n",
    "import numpy as np\n",
    "\n",
    "from sklearn.manifold import TSNE\n",
    "\n",
    "from keras.layers import Input, Embedding, Dense, GRU, LSTM, Dropout, Reshape, Merge, Activation, Bidirectional\n",
    "from keras.models import Sequential\n",
    "from keras.preprocessing.text import Tokenizer\n",
    "from keras.preprocessing.sequence import pad_sequences\n",
    "from keras.callbacks import Callback, EarlyStopping, ModelCheckpoint"
   ]
  },
  {
   "cell_type": "markdown",
   "metadata": {},
   "source": [
    "## Download data files"
   ]
  },
  {
   "cell_type": "code",
   "execution_count": null,
   "metadata": {
    "collapsed": true
   },
   "outputs": [],
   "source": [
    "! wget -q http://nlp.stanford.edu/data/glove.6B.zip\n",
    "! unzip glove.6B.zip\n",
    "! wget -q https://raw.githubusercontent.com/uclmr/emoji2vec/master/data/raw_training_data/emoji_joined.txt"
   ]
  },
  {
   "cell_type": "markdown",
   "metadata": {},
   "source": [
    "## Initialize global variables"
   ]
  },
  {
   "cell_type": "code",
   "execution_count": 2,
   "metadata": {
    "collapsed": true
   },
   "outputs": [],
   "source": [
    "GLOVE_FILE = 'glove.6B/glove.6B.300d.txt'\n",
    "EMOJI_DESCRIPTIONS_FILE = 'emoji_joined.txt'\n",
    "EMOJI_EMB_VIZ_FILE = 'emoji_emb_viz.csv'\n",
    "MODEL_WEIGHTS_FILE = 'weights.h5'\n",
    "\n",
    "MAX_SEQUENCE_LENGTH = 15\n",
    "MAX_NB_WORDS = 5000\n",
    "MAX_NB_EMOJIS = 2000\n",
    "EMBEDDING_DIM = 300\n",
    "\n",
    "RNG_SEED_1 = 1446557\n",
    "RNG_SEED_2 = 1337603\n",
    "VALIDATION_SPLIT = 0.1"
   ]
  },
  {
   "cell_type": "markdown",
   "metadata": {},
   "source": [
    "## Load emjois\n",
    "\n",
    "\"To this end, we crawl emoji, their name and their keyword phrases from the Unicode emoji list, resulting in 6088 descriptions of 1661 emoji symbols.\" [1]"
   ]
  },
  {
   "cell_type": "code",
   "execution_count": 3,
   "metadata": {
    "collapsed": false
   },
   "outputs": [
    {
     "name": "stdout",
     "output_type": "stream",
     "text": [
      "Emoji descriptions: 6088\n"
     ]
    }
   ],
   "source": [
    "emoji_descriptions = pd.read_csv(EMOJI_DESCRIPTIONS_FILE, \n",
    "                                 sep='\\t', \n",
    "                                 engine='python', \n",
    "                                 encoding='utf_8',\n",
    "                                 names=['description', 'emoji'])\n",
    "\n",
    "print('Emoji descriptions: %d' % len(emoji_descriptions))"
   ]
  },
  {
   "cell_type": "code",
   "execution_count": 4,
   "metadata": {
    "collapsed": false
   },
   "outputs": [
    {
     "data": {
      "text/html": [
       "<div>\n",
       "<table border=\"1\" class=\"dataframe\">\n",
       "  <thead>\n",
       "    <tr style=\"text-align: right;\">\n",
       "      <th></th>\n",
       "      <th>description</th>\n",
       "      <th>emoji</th>\n",
       "    </tr>\n",
       "  </thead>\n",
       "  <tbody>\n",
       "    <tr>\n",
       "      <th>0</th>\n",
       "      <td>ballot box with check</td>\n",
       "      <td>☑️</td>\n",
       "    </tr>\n",
       "    <tr>\n",
       "      <th>1</th>\n",
       "      <td>full moon with face</td>\n",
       "      <td>🌝</td>\n",
       "    </tr>\n",
       "    <tr>\n",
       "      <th>2</th>\n",
       "      <td>cheese</td>\n",
       "      <td>🌝</td>\n",
       "    </tr>\n",
       "    <tr>\n",
       "      <th>3</th>\n",
       "      <td>moon</td>\n",
       "      <td>🌝</td>\n",
       "    </tr>\n",
       "    <tr>\n",
       "      <th>4</th>\n",
       "      <td>smiling moon</td>\n",
       "      <td>🌝</td>\n",
       "    </tr>\n",
       "  </tbody>\n",
       "</table>\n",
       "</div>"
      ],
      "text/plain": [
       "             description emoji\n",
       "0  ballot box with check    ☑️\n",
       "1    full moon with face     🌝\n",
       "2                 cheese     🌝\n",
       "3                   moon     🌝\n",
       "4           smiling moon     🌝"
      ]
     },
     "execution_count": 4,
     "metadata": {},
     "output_type": "execute_result"
    }
   ],
   "source": [
    "emoji_descriptions.head(5)"
   ]
  },
  {
   "cell_type": "code",
   "execution_count": 5,
   "metadata": {
    "collapsed": false
   },
   "outputs": [],
   "source": [
    "neg_emoji_descriptions = pd.DataFrame({'emoji': emoji_descriptions['emoji'].values, \n",
    "                                       'description': emoji_descriptions.sample(frac=1, \n",
    "                                                                                random_state=RNG_SEED_1)['description'].values})"
   ]
  },
  {
   "cell_type": "code",
   "execution_count": 6,
   "metadata": {
    "collapsed": false
   },
   "outputs": [
    {
     "data": {
      "text/html": [
       "<div>\n",
       "<table border=\"1\" class=\"dataframe\">\n",
       "  <thead>\n",
       "    <tr style=\"text-align: right;\">\n",
       "      <th></th>\n",
       "      <th>description</th>\n",
       "      <th>emoji</th>\n",
       "    </tr>\n",
       "  </thead>\n",
       "  <tbody>\n",
       "    <tr>\n",
       "      <th>0</th>\n",
       "      <td>flag for jordan</td>\n",
       "      <td>☑️</td>\n",
       "    </tr>\n",
       "    <tr>\n",
       "      <th>1</th>\n",
       "      <td>middle school</td>\n",
       "      <td>🌝</td>\n",
       "    </tr>\n",
       "    <tr>\n",
       "      <th>2</th>\n",
       "      <td>menorah</td>\n",
       "      <td>🌝</td>\n",
       "    </tr>\n",
       "    <tr>\n",
       "      <th>3</th>\n",
       "      <td>old man</td>\n",
       "      <td>🌝</td>\n",
       "    </tr>\n",
       "    <tr>\n",
       "      <th>4</th>\n",
       "      <td>jazz</td>\n",
       "      <td>🌝</td>\n",
       "    </tr>\n",
       "  </tbody>\n",
       "</table>\n",
       "</div>"
      ],
      "text/plain": [
       "       description emoji\n",
       "0  flag for jordan    ☑️\n",
       "1    middle school     🌝\n",
       "2          menorah     🌝\n",
       "3          old man     🌝\n",
       "4             jazz     🌝"
      ]
     },
     "execution_count": 6,
     "metadata": {},
     "output_type": "execute_result"
    }
   ],
   "source": [
    "neg_emoji_descriptions.head(5)"
   ]
  },
  {
   "cell_type": "code",
   "execution_count": 7,
   "metadata": {
    "collapsed": true
   },
   "outputs": [],
   "source": [
    "emoji_descriptions['label'] = 1\n",
    "neg_emoji_descriptions['label'] = 0\n",
    "emoji_data = pd.concat([emoji_descriptions, neg_emoji_descriptions]).sample(frac=1, random_state=RNG_SEED_2)"
   ]
  },
  {
   "cell_type": "code",
   "execution_count": 8,
   "metadata": {
    "collapsed": false
   },
   "outputs": [
    {
     "data": {
      "text/html": [
       "<div>\n",
       "<table border=\"1\" class=\"dataframe\">\n",
       "  <thead>\n",
       "    <tr style=\"text-align: right;\">\n",
       "      <th></th>\n",
       "      <th>description</th>\n",
       "      <th>emoji</th>\n",
       "      <th>label</th>\n",
       "    </tr>\n",
       "  </thead>\n",
       "  <tbody>\n",
       "    <tr>\n",
       "      <th>4078</th>\n",
       "      <td>arab</td>\n",
       "      <td>▫️</td>\n",
       "      <td>0</td>\n",
       "    </tr>\n",
       "    <tr>\n",
       "      <th>468</th>\n",
       "      <td>black man with turban</td>\n",
       "      <td>🈵</td>\n",
       "      <td>0</td>\n",
       "    </tr>\n",
       "    <tr>\n",
       "      <th>2407</th>\n",
       "      <td>sad cat</td>\n",
       "      <td>😿</td>\n",
       "      <td>1</td>\n",
       "    </tr>\n",
       "    <tr>\n",
       "      <th>1530</th>\n",
       "      <td>flag for brazil</td>\n",
       "      <td>🇧🇷</td>\n",
       "      <td>1</td>\n",
       "    </tr>\n",
       "    <tr>\n",
       "      <th>4797</th>\n",
       "      <td>accessible bathroom</td>\n",
       "      <td>💴</td>\n",
       "      <td>0</td>\n",
       "    </tr>\n",
       "    <tr>\n",
       "      <th>5890</th>\n",
       "      <td>white left pointing backhand index</td>\n",
       "      <td>🍳</td>\n",
       "      <td>0</td>\n",
       "    </tr>\n",
       "    <tr>\n",
       "      <th>5401</th>\n",
       "      <td>blond</td>\n",
       "      <td>👱</td>\n",
       "      <td>1</td>\n",
       "    </tr>\n",
       "    <tr>\n",
       "      <th>2520</th>\n",
       "      <td>face with open mouth and cold sweat</td>\n",
       "      <td>😰</td>\n",
       "      <td>1</td>\n",
       "    </tr>\n",
       "    <tr>\n",
       "      <th>747</th>\n",
       "      <td>slow</td>\n",
       "      <td>🐢</td>\n",
       "      <td>1</td>\n",
       "    </tr>\n",
       "    <tr>\n",
       "      <th>5770</th>\n",
       "      <td>mobile phone</td>\n",
       "      <td>📱</td>\n",
       "      <td>1</td>\n",
       "    </tr>\n",
       "  </tbody>\n",
       "</table>\n",
       "</div>"
      ],
      "text/plain": [
       "                              description emoji  label\n",
       "4078                                 arab    ▫️      0\n",
       "468                 black man with turban     🈵      0\n",
       "2407                              sad cat     😿      1\n",
       "1530                      flag for brazil    🇧🇷      1\n",
       "4797                  accessible bathroom     💴      0\n",
       "5890   white left pointing backhand index     🍳      0\n",
       "5401                                blond     👱      1\n",
       "2520  face with open mouth and cold sweat     😰      1\n",
       "747                                  slow     🐢      1\n",
       "5770                         mobile phone     📱      1"
      ]
     },
     "execution_count": 8,
     "metadata": {},
     "output_type": "execute_result"
    }
   ],
   "source": [
    "emoji_data.head(10)"
   ]
  },
  {
   "cell_type": "code",
   "execution_count": 9,
   "metadata": {
    "collapsed": false
   },
   "outputs": [
    {
     "name": "stdout",
     "output_type": "stream",
     "text": [
      "Emojis: 1661\n"
     ]
    }
   ],
   "source": [
    "emoji_series = emoji_descriptions.groupby('emoji')['description'].apply(lambda x: ', '.join(x))\n",
    "emojis_combined_desc = pd.DataFrame({'emoji': emoji_series.index, 'description': emoji_series.values})\n",
    "\n",
    "print('Emojis: %d' % len(emojis_combined_desc))"
   ]
  },
  {
   "cell_type": "code",
   "execution_count": 10,
   "metadata": {
    "collapsed": false
   },
   "outputs": [
    {
     "data": {
      "text/html": [
       "<div>\n",
       "<table border=\"1\" class=\"dataframe\">\n",
       "  <thead>\n",
       "    <tr style=\"text-align: right;\">\n",
       "      <th></th>\n",
       "      <th>description</th>\n",
       "      <th>emoji</th>\n",
       "    </tr>\n",
       "  </thead>\n",
       "  <tbody>\n",
       "    <tr>\n",
       "      <th>606</th>\n",
       "      <td>slice of pizza, pie, italy, pepperoni pizza, s...</td>\n",
       "      <td>🍕</td>\n",
       "    </tr>\n",
       "    <tr>\n",
       "      <th>1362</th>\n",
       "      <td>statue of liberty, new york</td>\n",
       "      <td>🗽</td>\n",
       "    </tr>\n",
       "    <tr>\n",
       "      <th>1506</th>\n",
       "      <td>taxicab, city, new york taxi, car, service, au...</td>\n",
       "      <td>🚕</td>\n",
       "    </tr>\n",
       "  </tbody>\n",
       "</table>\n",
       "</div>"
      ],
      "text/plain": [
       "                                            description emoji\n",
       "606   slice of pizza, pie, italy, pepperoni pizza, s...     🍕\n",
       "1362                        statue of liberty, new york     🗽\n",
       "1506  taxicab, city, new york taxi, car, service, au...     🚕"
      ]
     },
     "execution_count": 10,
     "metadata": {},
     "output_type": "execute_result"
    }
   ],
   "source": [
    "emojis_combined_desc[emojis_combined_desc['description'].str.contains('new york')]"
   ]
  },
  {
   "cell_type": "markdown",
   "metadata": {},
   "source": [
    "## Build emoji index"
   ]
  },
  {
   "cell_type": "code",
   "execution_count": 11,
   "metadata": {
    "collapsed": false
   },
   "outputs": [
    {
     "name": "stdout",
     "output_type": "stream",
     "text": [
      "Unique emojis: 1661\n"
     ]
    }
   ],
   "source": [
    "emojis = emojis_combined_desc['emoji'].values\n",
    "emoji_index = {}\n",
    "emoji_reverse_index = {}\n",
    "i = 0\n",
    "for e in emojis:\n",
    "    i += 1\n",
    "    emoji_index[e] = i\n",
    "    emoji_reverse_index[i] = e\n",
    "\n",
    "print(\"Unique emojis: %d\" % len(emoji_index))"
   ]
  },
  {
   "cell_type": "markdown",
   "metadata": {},
   "source": [
    "## Build word index"
   ]
  },
  {
   "cell_type": "code",
   "execution_count": 12,
   "metadata": {
    "collapsed": false
   },
   "outputs": [
    {
     "name": "stdout",
     "output_type": "stream",
     "text": [
      "Unique words: 3364\n"
     ]
    }
   ],
   "source": [
    "descriptions = emoji_data['description'].values\n",
    "tokenizer = Tokenizer(nb_words=MAX_NB_WORDS)\n",
    "tokenizer.fit_on_texts(descriptions.tolist())\n",
    "desc_word_sequences = tokenizer.texts_to_sequences(descriptions.tolist())\n",
    "word_index = tokenizer.word_index\n",
    "print(\"Unique words: %d\" % len(word_index))"
   ]
  },
  {
   "cell_type": "markdown",
   "metadata": {},
   "source": [
    "## Load GloVe word embeddings"
   ]
  },
  {
   "cell_type": "code",
   "execution_count": null,
   "metadata": {
    "collapsed": false
   },
   "outputs": [],
   "source": [
    "embeddings_index = {}\n",
    "with open(GLOVE_FILE) as f:\n",
    "    for line in f:\n",
    "        values = line.split()\n",
    "        word = values[0]\n",
    "        embedding = np.asarray(values[1:], dtype='float32')\n",
    "        embeddings_index[word] = embedding\n",
    "\n",
    "print('Word embeddings: %d' % len(embeddings_index))"
   ]
  },
  {
   "cell_type": "markdown",
   "metadata": {},
   "source": [
    "## Prepare word embedding matrix"
   ]
  },
  {
   "cell_type": "code",
   "execution_count": null,
   "metadata": {
    "collapsed": false
   },
   "outputs": [],
   "source": [
    "nb_words = min(MAX_NB_WORDS, len(word_index))\n",
    "word_embedding_matrix = np.zeros((nb_words + 1, EMBEDDING_DIM))\n",
    "for word, i in word_index.items():\n",
    "    if i > MAX_NB_WORDS:\n",
    "        continue\n",
    "    embedding_vector = embeddings_index.get(word)\n",
    "    if embedding_vector is not None:\n",
    "        # words not found in embedding index will be all-zeros.\n",
    "        word_embedding_matrix[i] = embedding_vector\n",
    "        \n",
    "print('Null word embeddings: %d' % np.sum(np.sum(word_embedding_matrix, axis=1) == 0))"
   ]
  },
  {
   "cell_type": "markdown",
   "metadata": {},
   "source": [
    "## Prepare training and validation sets"
   ]
  },
  {
   "cell_type": "code",
   "execution_count": null,
   "metadata": {
    "collapsed": false
   },
   "outputs": [],
   "source": [
    "e_data = np.array([ emoji_index[e] for e in emoji_data['emoji'].values ])\n",
    "d_data = pad_sequences(desc_word_sequences, maxlen=MAX_SEQUENCE_LENGTH)\n",
    "labels = emoji_data['label'].values\n",
    "nb_emojis = min(MAX_NB_EMOJIS, len(emoji_index))\n",
    "print('Shape of emoji data tensor:', e_data.shape)\n",
    "print('Shape of description data tensor:', d_data.shape)\n",
    "print('Shape of label tensor:', labels.shape)\n",
    "print('Number of emojis:', nb_emojis)"
   ]
  },
  {
   "cell_type": "markdown",
   "metadata": {},
   "source": [
    "## Define sigmoid model"
   ]
  },
  {
   "cell_type": "code",
   "execution_count": null,
   "metadata": {
    "collapsed": false
   },
   "outputs": [],
   "source": [
    "sigmoid_P = Sequential()\n",
    "sigmoid_P.add(Embedding(nb_emojis + 1, EMBEDDING_DIM, input_length=1))\n",
    "sigmoid_P.add(Reshape((EMBEDDING_DIM,)))\n",
    "sigmoid_Q = Sequential()\n",
    "sigmoid_Q.add(Embedding(nb_words + 1, \n",
    "                        EMBEDDING_DIM, \n",
    "                        weights=[word_embedding_matrix], \n",
    "                        input_length=MAX_SEQUENCE_LENGTH, \n",
    "                        trainable=False))\n",
    "sigmoid_Q.add(Bidirectional(GRU(EMBEDDING_DIM, dropout_W=0.5, dropout_U=0.5), merge_mode='sum'))\n",
    "sigmoid_model = Sequential()\n",
    "sigmoid_model.add(Merge([sigmoid_P, sigmoid_Q], mode='concat'))\n",
    "sigmoid_model.add(Dropout(0.5))\n",
    "sigmoid_model.add(Dense(EMBEDDING_DIM*2, activation='relu'))\n",
    "sigmoid_model.add(Dropout(0.5))\n",
    "sigmoid_model.add(Dense(1, activation='sigmoid'))\n",
    "sigmoid_model.compile(loss='binary_crossentropy', optimizer='adam', metrics=['binary_accuracy'])\n",
    "sigmoid_model.summary()"
   ]
  },
  {
   "cell_type": "markdown",
   "metadata": {},
   "source": [
    "## Train sigmoid model"
   ]
  },
  {
   "cell_type": "code",
   "execution_count": null,
   "metadata": {
    "collapsed": false
   },
   "outputs": [],
   "source": [
    "callbacks = [ModelCheckpoint(MODEL_WEIGHTS_FILE, save_best_only=True)]\n",
    "sigmoid_history = sigmoid_model.fit([e_data, d_data], \n",
    "                                    labels, \n",
    "                                    nb_epoch=80, \n",
    "                                    validation_split=VALIDATION_SPLIT, \n",
    "                                    verbose=2, \n",
    "                                    callbacks=callbacks)"
   ]
  },
  {
   "cell_type": "markdown",
   "metadata": {},
   "source": [
    "## Plot training and validation accuracy"
   ]
  },
  {
   "cell_type": "code",
   "execution_count": null,
   "metadata": {
    "collapsed": false
   },
   "outputs": [],
   "source": [
    "acc = pd.DataFrame({'epoch': [ i + 1 for i in sigmoid_history.epoch ],\n",
    "                    'training': sigmoid_history.history['binary_accuracy'],\n",
    "                    'validation': sigmoid_history.history['val_binary_accuracy']})\n",
    "ax = acc.ix[:,:].plot(x='epoch', figsize={7,10}, grid=True)\n",
    "ax.set_ylabel(\"binary accuracy\")\n",
    "ax.set_ylim([0.0,1.0]);"
   ]
  },
  {
   "cell_type": "markdown",
   "metadata": {},
   "source": [
    "## Plot training and validation loss"
   ]
  },
  {
   "cell_type": "code",
   "execution_count": null,
   "metadata": {
    "collapsed": false
   },
   "outputs": [],
   "source": [
    "loss = pd.DataFrame({'epoch': [ i + 1 for i in sigmoid_history.epoch ],\n",
    "                     'training': sigmoid_history.history['loss'],\n",
    "                     'validation': sigmoid_history.history['val_loss']})\n",
    "ax = loss.ix[:,:].plot(x='epoch', figsize={7,10}, grid=True)\n",
    "ax.set_ylabel(\"loss\")\n",
    "ax.set_ylim([0.0,2.0]);"
   ]
  },
  {
   "cell_type": "markdown",
   "metadata": {},
   "source": [
    "## Define softmax model"
   ]
  },
  {
   "cell_type": "code",
   "execution_count": null,
   "metadata": {
    "collapsed": false
   },
   "outputs": [],
   "source": [
    "softmax_P = Sequential()\n",
    "softmax_P.add(Embedding(nb_emojis + 1, EMBEDDING_DIM, input_length=1))\n",
    "softmax_P.add(Reshape((EMBEDDING_DIM,)))\n",
    "softmax_Q = Sequential()\n",
    "softmax_Q.add(Embedding(nb_words + 1, \n",
    "                        EMBEDDING_DIM, \n",
    "                        weights=[word_embedding_matrix], \n",
    "                        input_length=MAX_SEQUENCE_LENGTH, \n",
    "                        trainable=False))\n",
    "softmax_Q.add(Bidirectional(GRU(EMBEDDING_DIM, dropout_W=0.5, dropout_U=0.5), merge_mode='sum'))\n",
    "softmax_model = Sequential()\n",
    "softmax_model.add(Merge([softmax_P, softmax_Q], mode='concat'))\n",
    "softmax_model.add(Dropout(0.5))\n",
    "softmax_model.add(Dense(EMBEDDING_DIM*2, activation='relu'))\n",
    "softmax_model.add(Dropout(0.5))\n",
    "softmax_model.add(Dense(2, activation='softmax'))\n",
    "softmax_model.compile(loss='categorical_crossentropy', optimizer='adam', metrics=['categorical_accuracy'])\n",
    "softmax_model.summary()"
   ]
  },
  {
   "cell_type": "markdown",
   "metadata": {},
   "source": [
    "## Train softmax model"
   ]
  },
  {
   "cell_type": "code",
   "execution_count": null,
   "metadata": {
    "collapsed": false
   },
   "outputs": [],
   "source": [
    "softmax_labels = np.array([ [0, 1] if l == 0 else [1, 0] for l in labels ])"
   ]
  },
  {
   "cell_type": "code",
   "execution_count": null,
   "metadata": {
    "collapsed": false
   },
   "outputs": [],
   "source": [
    "callbacks = [ModelCheckpoint(MODEL_WEIGHTS_FILE, save_best_only=True)]\n",
    "softmax_history = softmax_model.fit([e_data, d_data], \n",
    "                                    softmax_labels, \n",
    "                                    nb_epoch=80, \n",
    "                                    validation_split=VALIDATION_SPLIT, \n",
    "                                    verbose=2, \n",
    "                                    callbacks=callbacks)"
   ]
  },
  {
   "cell_type": "code",
   "execution_count": null,
   "metadata": {
    "collapsed": false
   },
   "outputs": [],
   "source": [
    "acc = pd.DataFrame({'epoch': [ i + 1 for i in softmax_history.epoch ],\n",
    "                    'training': softmax_history.history['categorical_accuracy'],\n",
    "                    'validation': softmax_history.history['val_categorical_accuracy']})\n",
    "ax = acc.ix[:,:].plot(x='epoch', figsize={7,10}, grid=True)\n",
    "ax.set_ylabel(\"categorical accuracy\")\n",
    "ax.set_ylim([0.0,1.0]);"
   ]
  },
  {
   "cell_type": "code",
   "execution_count": null,
   "metadata": {
    "collapsed": true
   },
   "outputs": [],
   "source": [
    "loss = pd.DataFrame({'epoch': [ i + 1 for i in softmax_history.epoch ],\n",
    "                     'training': softmax_history.history['loss'],\n",
    "                     'validation': softmax_history.history['val_loss']})\n",
    "ax = loss.ix[:,:].plot(x='epoch', figsize={7,10}, grid=True)\n",
    "ax.set_ylabel(\"loss\")\n",
    "ax.set_ylim([0.0,2.0]);"
   ]
  },
  {
   "cell_type": "markdown",
   "metadata": {
    "collapsed": false
   },
   "source": [
    "## Display t-SNE visualization of emoji embeddings from sigmoid model"
   ]
  },
  {
   "cell_type": "code",
   "execution_count": null,
   "metadata": {
    "collapsed": true
   },
   "outputs": [],
   "source": [
    "tsne2 = TSNE(n_components=2, perplexity=30, init='pca', n_iter=5000)\n",
    "weights = sigmoid_P.layers[0].get_weights()[0]\n",
    "fit = tsne2.fit_transform(weights)\n",
    "visualization = pd.DataFrame(fit[1:], columns=['x', 'y'])\n",
    "visualization['emoji'] = emojis_combined_desc['emoji'].values\n",
    "visualization.to_csv(EMOJI_EMB_VIZ_FILE)\n",
    "visualization.plot('x', 'y', kind='scatter');"
   ]
  }
 ],
 "metadata": {
  "anaconda-cloud": {},
  "kernelspec": {
   "display_name": "Python [conda env:dlnotebook35]",
   "language": "python",
   "name": "conda-env-dlnotebook35-py"
  },
  "language_info": {
   "codemirror_mode": {
    "name": "ipython",
    "version": 3
   },
   "file_extension": ".py",
   "mimetype": "text/x-python",
   "name": "python",
   "nbconvert_exporter": "python",
   "pygments_lexer": "ipython3",
   "version": "3.5.2"
  }
 },
 "nbformat": 4,
 "nbformat_minor": 0
}
