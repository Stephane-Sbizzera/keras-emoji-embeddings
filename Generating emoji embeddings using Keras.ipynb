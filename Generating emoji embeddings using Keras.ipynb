{
 "cells": [
  {
   "cell_type": "markdown",
   "metadata": {},
   "source": [
    "## Import packages"
   ]
  },
  {
   "cell_type": "code",
   "execution_count": 1,
   "metadata": {
    "collapsed": false
   },
   "outputs": [
    {
     "name": "stderr",
     "output_type": "stream",
     "text": [
      "Using TensorFlow backend.\n"
     ]
    }
   ],
   "source": [
    "%matplotlib inline\n",
    "from __future__ import print_function\n",
    "\n",
    "import sys\n",
    "import pandas as pd\n",
    "import numpy as np\n",
    "\n",
    "from sklearn.manifold import TSNE\n",
    "\n",
    "from keras.layers import Input, Embedding, Dense, GRU, LSTM, Dropout, Reshape, Merge, Activation, Bidirectional\n",
    "from keras.models import Sequential\n",
    "from keras.preprocessing.text import Tokenizer\n",
    "from keras.preprocessing.sequence import pad_sequences\n",
    "from keras.callbacks import Callback, EarlyStopping, ModelCheckpoint"
   ]
  },
  {
   "cell_type": "markdown",
   "metadata": {},
   "source": [
    "## Download data files"
   ]
  },
  {
   "cell_type": "code",
   "execution_count": 2,
   "metadata": {
    "collapsed": false
   },
   "outputs": [],
   "source": [
    "! wget -q -O emoji_joined.txt https://raw.githubusercontent.com/uclmr/emoji2vec/master/data/raw_training_data/emoji_joined.txt\n",
    "! wget -q http://nlp.stanford.edu/data/glove.6B.zip\n",
    "! unzip -q -o glove.6B.zip\n",
    "! rm -f glove.6B.zip glove.6B.50d.txt glove.6B.100d.txt glove.6B.200d.txt"
   ]
  },
  {
   "cell_type": "markdown",
   "metadata": {},
   "source": [
    "## Initialize global variables"
   ]
  },
  {
   "cell_type": "code",
   "execution_count": 3,
   "metadata": {
    "collapsed": true
   },
   "outputs": [],
   "source": [
    "GLOVE_FILE = 'glove.6B.300d.txt'\n",
    "EMOJI_DESCRIPTIONS_FILE = 'emoji_joined.txt'\n",
    "EMOJI_EMB_VIZ_FILE = 'emoji_emb_viz.csv'\n",
    "MODEL_WEIGHTS_FILE = 'weights.h5'\n",
    "\n",
    "MAX_SEQUENCE_LENGTH = 15\n",
    "MAX_NB_WORDS = 5000\n",
    "MAX_NB_EMOJIS = 2000\n",
    "EMBEDDING_DIM = 300\n",
    "\n",
    "RNG_SEED_1 = 1446557\n",
    "RNG_SEED_2 = 1337603\n",
    "VALIDATION_SPLIT = 0.1"
   ]
  },
  {
   "cell_type": "markdown",
   "metadata": {},
   "source": [
    "## Load emojis"
   ]
  },
  {
   "cell_type": "code",
   "execution_count": 4,
   "metadata": {
    "collapsed": false
   },
   "outputs": [
    {
     "name": "stdout",
     "output_type": "stream",
     "text": [
      "Emoji descriptions: 6088\n"
     ]
    }
   ],
   "source": [
    "emoji_descriptions = pd.read_csv(EMOJI_DESCRIPTIONS_FILE, \n",
    "                                 sep='\\t', \n",
    "                                 engine='python', \n",
    "                                 encoding='utf_8',\n",
    "                                 names=['description', 'emoji'])\n",
    "\n",
    "print('Emoji descriptions: %d' % len(emoji_descriptions))"
   ]
  },
  {
   "cell_type": "code",
   "execution_count": 5,
   "metadata": {
    "collapsed": false
   },
   "outputs": [
    {
     "data": {
      "text/html": [
       "<div>\n",
       "<table border=\"1\" class=\"dataframe\">\n",
       "  <thead>\n",
       "    <tr style=\"text-align: right;\">\n",
       "      <th></th>\n",
       "      <th>description</th>\n",
       "      <th>emoji</th>\n",
       "    </tr>\n",
       "  </thead>\n",
       "  <tbody>\n",
       "    <tr>\n",
       "      <th>0</th>\n",
       "      <td>ballot box with check</td>\n",
       "      <td>☑️</td>\n",
       "    </tr>\n",
       "    <tr>\n",
       "      <th>1</th>\n",
       "      <td>full moon with face</td>\n",
       "      <td>🌝</td>\n",
       "    </tr>\n",
       "    <tr>\n",
       "      <th>2</th>\n",
       "      <td>cheese</td>\n",
       "      <td>🌝</td>\n",
       "    </tr>\n",
       "    <tr>\n",
       "      <th>3</th>\n",
       "      <td>moon</td>\n",
       "      <td>🌝</td>\n",
       "    </tr>\n",
       "    <tr>\n",
       "      <th>4</th>\n",
       "      <td>smiling moon</td>\n",
       "      <td>🌝</td>\n",
       "    </tr>\n",
       "  </tbody>\n",
       "</table>\n",
       "</div>"
      ],
      "text/plain": [
       "             description emoji\n",
       "0  ballot box with check    ☑️\n",
       "1    full moon with face     🌝\n",
       "2                 cheese     🌝\n",
       "3                   moon     🌝\n",
       "4           smiling moon     🌝"
      ]
     },
     "execution_count": 5,
     "metadata": {},
     "output_type": "execute_result"
    }
   ],
   "source": [
    "emoji_descriptions.head(5)"
   ]
  },
  {
   "cell_type": "code",
   "execution_count": 6,
   "metadata": {
    "collapsed": false
   },
   "outputs": [],
   "source": [
    "neg_emoji_descriptions = pd.DataFrame({'emoji': emoji_descriptions['emoji'].values, \n",
    "                                       'description': emoji_descriptions.sample(frac=1, \n",
    "                                                                                random_state=RNG_SEED_1)['description'].values})"
   ]
  },
  {
   "cell_type": "code",
   "execution_count": 7,
   "metadata": {
    "collapsed": false
   },
   "outputs": [
    {
     "data": {
      "text/html": [
       "<div>\n",
       "<table border=\"1\" class=\"dataframe\">\n",
       "  <thead>\n",
       "    <tr style=\"text-align: right;\">\n",
       "      <th></th>\n",
       "      <th>description</th>\n",
       "      <th>emoji</th>\n",
       "    </tr>\n",
       "  </thead>\n",
       "  <tbody>\n",
       "    <tr>\n",
       "      <th>0</th>\n",
       "      <td>flag for jordan</td>\n",
       "      <td>☑️</td>\n",
       "    </tr>\n",
       "    <tr>\n",
       "      <th>1</th>\n",
       "      <td>middle school</td>\n",
       "      <td>🌝</td>\n",
       "    </tr>\n",
       "    <tr>\n",
       "      <th>2</th>\n",
       "      <td>menorah</td>\n",
       "      <td>🌝</td>\n",
       "    </tr>\n",
       "    <tr>\n",
       "      <th>3</th>\n",
       "      <td>old man</td>\n",
       "      <td>🌝</td>\n",
       "    </tr>\n",
       "    <tr>\n",
       "      <th>4</th>\n",
       "      <td>jazz</td>\n",
       "      <td>🌝</td>\n",
       "    </tr>\n",
       "  </tbody>\n",
       "</table>\n",
       "</div>"
      ],
      "text/plain": [
       "       description emoji\n",
       "0  flag for jordan    ☑️\n",
       "1    middle school     🌝\n",
       "2          menorah     🌝\n",
       "3          old man     🌝\n",
       "4             jazz     🌝"
      ]
     },
     "execution_count": 7,
     "metadata": {},
     "output_type": "execute_result"
    }
   ],
   "source": [
    "neg_emoji_descriptions.head(5)"
   ]
  },
  {
   "cell_type": "code",
   "execution_count": 8,
   "metadata": {
    "collapsed": true
   },
   "outputs": [],
   "source": [
    "emoji_descriptions['label'] = 1\n",
    "neg_emoji_descriptions['label'] = 0\n",
    "emoji_data = pd.concat([emoji_descriptions, neg_emoji_descriptions]).sample(frac=1, random_state=RNG_SEED_2)"
   ]
  },
  {
   "cell_type": "code",
   "execution_count": 9,
   "metadata": {
    "collapsed": false
   },
   "outputs": [
    {
     "data": {
      "text/html": [
       "<div>\n",
       "<table border=\"1\" class=\"dataframe\">\n",
       "  <thead>\n",
       "    <tr style=\"text-align: right;\">\n",
       "      <th></th>\n",
       "      <th>description</th>\n",
       "      <th>emoji</th>\n",
       "      <th>label</th>\n",
       "    </tr>\n",
       "  </thead>\n",
       "  <tbody>\n",
       "    <tr>\n",
       "      <th>4078</th>\n",
       "      <td>arab</td>\n",
       "      <td>▫️</td>\n",
       "      <td>0</td>\n",
       "    </tr>\n",
       "    <tr>\n",
       "      <th>468</th>\n",
       "      <td>black man with turban</td>\n",
       "      <td>🈵</td>\n",
       "      <td>0</td>\n",
       "    </tr>\n",
       "    <tr>\n",
       "      <th>2407</th>\n",
       "      <td>sad cat</td>\n",
       "      <td>😿</td>\n",
       "      <td>1</td>\n",
       "    </tr>\n",
       "    <tr>\n",
       "      <th>1530</th>\n",
       "      <td>flag for brazil</td>\n",
       "      <td>🇧🇷</td>\n",
       "      <td>1</td>\n",
       "    </tr>\n",
       "    <tr>\n",
       "      <th>4797</th>\n",
       "      <td>accessible bathroom</td>\n",
       "      <td>💴</td>\n",
       "      <td>0</td>\n",
       "    </tr>\n",
       "    <tr>\n",
       "      <th>5890</th>\n",
       "      <td>white left pointing backhand index</td>\n",
       "      <td>🍳</td>\n",
       "      <td>0</td>\n",
       "    </tr>\n",
       "    <tr>\n",
       "      <th>5401</th>\n",
       "      <td>blond</td>\n",
       "      <td>👱</td>\n",
       "      <td>1</td>\n",
       "    </tr>\n",
       "    <tr>\n",
       "      <th>2520</th>\n",
       "      <td>face with open mouth and cold sweat</td>\n",
       "      <td>😰</td>\n",
       "      <td>1</td>\n",
       "    </tr>\n",
       "    <tr>\n",
       "      <th>747</th>\n",
       "      <td>slow</td>\n",
       "      <td>🐢</td>\n",
       "      <td>1</td>\n",
       "    </tr>\n",
       "    <tr>\n",
       "      <th>5770</th>\n",
       "      <td>mobile phone</td>\n",
       "      <td>📱</td>\n",
       "      <td>1</td>\n",
       "    </tr>\n",
       "  </tbody>\n",
       "</table>\n",
       "</div>"
      ],
      "text/plain": [
       "                              description emoji  label\n",
       "4078                                 arab    ▫️      0\n",
       "468                 black man with turban     🈵      0\n",
       "2407                              sad cat     😿      1\n",
       "1530                      flag for brazil    🇧🇷      1\n",
       "4797                  accessible bathroom     💴      0\n",
       "5890   white left pointing backhand index     🍳      0\n",
       "5401                                blond     👱      1\n",
       "2520  face with open mouth and cold sweat     😰      1\n",
       "747                                  slow     🐢      1\n",
       "5770                         mobile phone     📱      1"
      ]
     },
     "execution_count": 9,
     "metadata": {},
     "output_type": "execute_result"
    }
   ],
   "source": [
    "emoji_data.head(10)"
   ]
  },
  {
   "cell_type": "code",
   "execution_count": 10,
   "metadata": {
    "collapsed": false
   },
   "outputs": [
    {
     "name": "stdout",
     "output_type": "stream",
     "text": [
      "Emojis: 1661\n"
     ]
    }
   ],
   "source": [
    "emoji_series = emoji_descriptions.groupby('emoji')['description'].apply(lambda x: ', '.join(x))\n",
    "emojis_combined_desc = pd.DataFrame({'emoji': emoji_series.index, 'description': emoji_series.values})\n",
    "\n",
    "print('Emojis: %d' % len(emojis_combined_desc))"
   ]
  },
  {
   "cell_type": "code",
   "execution_count": 11,
   "metadata": {
    "collapsed": false
   },
   "outputs": [
    {
     "data": {
      "text/html": [
       "<div>\n",
       "<table border=\"1\" class=\"dataframe\">\n",
       "  <thead>\n",
       "    <tr style=\"text-align: right;\">\n",
       "      <th></th>\n",
       "      <th>description</th>\n",
       "      <th>emoji</th>\n",
       "    </tr>\n",
       "  </thead>\n",
       "  <tbody>\n",
       "    <tr>\n",
       "      <th>606</th>\n",
       "      <td>slice of pizza, pie, italy, pepperoni pizza, s...</td>\n",
       "      <td>🍕</td>\n",
       "    </tr>\n",
       "    <tr>\n",
       "      <th>1362</th>\n",
       "      <td>statue of liberty, new york</td>\n",
       "      <td>🗽</td>\n",
       "    </tr>\n",
       "    <tr>\n",
       "      <th>1506</th>\n",
       "      <td>taxicab, city, new york taxi, car, service, au...</td>\n",
       "      <td>🚕</td>\n",
       "    </tr>\n",
       "  </tbody>\n",
       "</table>\n",
       "</div>"
      ],
      "text/plain": [
       "                                            description emoji\n",
       "606   slice of pizza, pie, italy, pepperoni pizza, s...     🍕\n",
       "1362                        statue of liberty, new york     🗽\n",
       "1506  taxicab, city, new york taxi, car, service, au...     🚕"
      ]
     },
     "execution_count": 11,
     "metadata": {},
     "output_type": "execute_result"
    }
   ],
   "source": [
    "emojis_combined_desc[emojis_combined_desc['description'].str.contains('new york')]"
   ]
  },
  {
   "cell_type": "markdown",
   "metadata": {},
   "source": [
    "## Build emoji index"
   ]
  },
  {
   "cell_type": "code",
   "execution_count": 12,
   "metadata": {
    "collapsed": false
   },
   "outputs": [
    {
     "name": "stdout",
     "output_type": "stream",
     "text": [
      "Emojis in index: 1661\n"
     ]
    }
   ],
   "source": [
    "emojis = emojis_combined_desc['emoji'].values\n",
    "emoji_index = {}\n",
    "emoji_reverse_index = {}\n",
    "i = 0\n",
    "for e in emojis:\n",
    "    i += 1\n",
    "    emoji_index[e] = i\n",
    "    emoji_reverse_index[i] = e\n",
    "\n",
    "print(\"Emojis in index: %d\" % len(emoji_index))"
   ]
  },
  {
   "cell_type": "markdown",
   "metadata": {},
   "source": [
    "## Build word index"
   ]
  },
  {
   "cell_type": "code",
   "execution_count": 13,
   "metadata": {
    "collapsed": false
   },
   "outputs": [
    {
     "name": "stdout",
     "output_type": "stream",
     "text": [
      "Words in index: 3364\n"
     ]
    }
   ],
   "source": [
    "descriptions = emoji_data['description'].values\n",
    "tokenizer = Tokenizer(nb_words=MAX_NB_WORDS)\n",
    "tokenizer.fit_on_texts(descriptions.tolist())\n",
    "desc_word_sequences = tokenizer.texts_to_sequences(descriptions.tolist())\n",
    "word_index = tokenizer.word_index\n",
    "print(\"Words in index: %d\" % len(word_index))"
   ]
  },
  {
   "cell_type": "markdown",
   "metadata": {},
   "source": [
    "## Load GloVe word embeddings"
   ]
  },
  {
   "cell_type": "code",
   "execution_count": 14,
   "metadata": {
    "collapsed": false
   },
   "outputs": [
    {
     "name": "stdout",
     "output_type": "stream",
     "text": [
      "Word embeddings: 400000\n"
     ]
    }
   ],
   "source": [
    "embeddings_index = {}\n",
    "with open(GLOVE_FILE) as f:\n",
    "    for line in f:\n",
    "        values = line.split()\n",
    "        word = values[0]\n",
    "        embedding = np.asarray(values[1:], dtype='float32')\n",
    "        embeddings_index[word] = embedding\n",
    "\n",
    "print('Word embeddings: %d' % len(embeddings_index))"
   ]
  },
  {
   "cell_type": "markdown",
   "metadata": {},
   "source": [
    "## Prepare word embedding matrix"
   ]
  },
  {
   "cell_type": "code",
   "execution_count": 15,
   "metadata": {
    "collapsed": false
   },
   "outputs": [
    {
     "name": "stdout",
     "output_type": "stream",
     "text": [
      "Null word embeddings: 72\n"
     ]
    }
   ],
   "source": [
    "nb_words = min(MAX_NB_WORDS, len(word_index))\n",
    "word_embedding_matrix = np.zeros((nb_words + 1, EMBEDDING_DIM))\n",
    "for word, i in word_index.items():\n",
    "    if i > MAX_NB_WORDS:\n",
    "        continue\n",
    "    embedding_vector = embeddings_index.get(word)\n",
    "    if embedding_vector is not None:\n",
    "        # words not found in embedding index will be all-zeros.\n",
    "        word_embedding_matrix[i] = embedding_vector\n",
    "        \n",
    "print('Null word embeddings: %d' % np.sum(np.sum(word_embedding_matrix, axis=1) == 0))"
   ]
  },
  {
   "cell_type": "markdown",
   "metadata": {},
   "source": [
    "## Prepare training and validation sets"
   ]
  },
  {
   "cell_type": "code",
   "execution_count": 16,
   "metadata": {
    "collapsed": false
   },
   "outputs": [
    {
     "name": "stdout",
     "output_type": "stream",
     "text": [
      "Shape of emoji data tensor: (12176,)\n",
      "Shape of description data tensor: (12176, 15)\n",
      "Shape of label tensor: (12176, 2)\n",
      "Number of emojis: 1661\n"
     ]
    }
   ],
   "source": [
    "e_data = np.array([ emoji_index[e] for e in emoji_data['emoji'].values ])\n",
    "d_data = pad_sequences(desc_word_sequences, maxlen=MAX_SEQUENCE_LENGTH)\n",
    "labels = np.array([ [0, 1] if l == 0 else [1, 0] for l in emoji_data['label'].values ])\n",
    "nb_emojis = min(MAX_NB_EMOJIS, len(emoji_index))\n",
    "print('Shape of emoji data tensor:', e_data.shape)\n",
    "print('Shape of description data tensor:', d_data.shape)\n",
    "print('Shape of label tensor:', labels.shape)\n",
    "print('Number of emojis:', nb_emojis)"
   ]
  },
  {
   "cell_type": "markdown",
   "metadata": {},
   "source": [
    "## Define model"
   ]
  },
  {
   "cell_type": "code",
   "execution_count": 17,
   "metadata": {
    "collapsed": false
   },
   "outputs": [
    {
     "name": "stdout",
     "output_type": "stream",
     "text": [
      "____________________________________________________________________________________________________\n",
      "Layer (type)                     Output Shape          Param #     Connected to                     \n",
      "====================================================================================================\n",
      "embedding_1 (Embedding)          (None, 1, 300)        498600                                       \n",
      "____________________________________________________________________________________________________\n",
      "reshape_1 (Reshape)              (None, 300)           0                                            \n",
      "____________________________________________________________________________________________________\n",
      "embedding_2 (Embedding)          (None, 15, 300)       0                                            \n",
      "____________________________________________________________________________________________________\n",
      "bidirectional_1 (Bidirectional)  (None, 300)           1081800                                      \n",
      "____________________________________________________________________________________________________\n",
      "dropout_1 (Dropout)              (None, 600)           0           merge_1[0][0]                    \n",
      "____________________________________________________________________________________________________\n",
      "dense_1 (Dense)                  (None, 600)           360600      dropout_1[0][0]                  \n",
      "____________________________________________________________________________________________________\n",
      "dropout_2 (Dropout)              (None, 600)           0           dense_1[0][0]                    \n",
      "____________________________________________________________________________________________________\n",
      "dense_2 (Dense)                  (None, 2)             1202        dropout_2[0][0]                  \n",
      "====================================================================================================\n",
      "Total params: 1942202\n",
      "____________________________________________________________________________________________________\n"
     ]
    }
   ],
   "source": [
    "P = Sequential()\n",
    "P.add(Embedding(nb_emojis + 1, EMBEDDING_DIM, input_length=1))\n",
    "P.add(Reshape((EMBEDDING_DIM,)))\n",
    "Q = Sequential()\n",
    "Q.add(Embedding(nb_words + 1, \n",
    "                EMBEDDING_DIM, \n",
    "                weights=[word_embedding_matrix], \n",
    "                input_length=MAX_SEQUENCE_LENGTH, \n",
    "                trainable=False))\n",
    "Q.add(Bidirectional(GRU(EMBEDDING_DIM, dropout_W=0.5, dropout_U=0.5), merge_mode='sum'))\n",
    "model = Sequential()\n",
    "model.add(Merge([P, Q], mode='concat'))\n",
    "model.add(Dropout(0.5))\n",
    "model.add(Dense(EMBEDDING_DIM*2, activation='relu'))\n",
    "model.add(Dropout(0.5))\n",
    "model.add(Dense(2, activation='softmax'))\n",
    "model.compile(loss='categorical_crossentropy', optimizer='adam', metrics=['categorical_accuracy'])\n",
    "\n",
    "model.summary()"
   ]
  },
  {
   "cell_type": "markdown",
   "metadata": {},
   "source": [
    "## Train model"
   ]
  },
  {
   "cell_type": "code",
   "execution_count": 18,
   "metadata": {
    "collapsed": false
   },
   "outputs": [
    {
     "name": "stdout",
     "output_type": "stream",
     "text": [
      "Train on 10958 samples, validate on 1218 samples\n",
      "Epoch 1/80\n",
      "18s - loss: 0.7257 - categorical_accuracy: 0.4806 - val_loss: 0.6969 - val_categorical_accuracy: 0.4943\n",
      "Epoch 2/80\n",
      "16s - loss: 0.7035 - categorical_accuracy: 0.4908 - val_loss: 0.6963 - val_categorical_accuracy: 0.4770\n",
      "Epoch 3/80\n",
      "16s - loss: 0.6974 - categorical_accuracy: 0.4951 - val_loss: 0.6943 - val_categorical_accuracy: 0.4984\n",
      "Epoch 4/80\n",
      "16s - loss: 0.6968 - categorical_accuracy: 0.4974 - val_loss: 0.6955 - val_categorical_accuracy: 0.4762\n",
      "Epoch 5/80\n",
      "16s - loss: 0.6954 - categorical_accuracy: 0.5119 - val_loss: 0.6907 - val_categorical_accuracy: 0.5205\n",
      "Epoch 6/80\n",
      "16s - loss: 0.6933 - categorical_accuracy: 0.5187 - val_loss: 0.6955 - val_categorical_accuracy: 0.5008\n",
      "Epoch 7/80\n",
      "16s - loss: 0.6824 - categorical_accuracy: 0.5535 - val_loss: 0.6885 - val_categorical_accuracy: 0.5624\n",
      "Epoch 8/80\n",
      "16s - loss: 0.6515 - categorical_accuracy: 0.6011 - val_loss: 0.6812 - val_categorical_accuracy: 0.5788\n",
      "Epoch 9/80\n",
      "16s - loss: 0.6070 - categorical_accuracy: 0.6547 - val_loss: 0.6636 - val_categorical_accuracy: 0.6117\n",
      "Epoch 10/80\n",
      "16s - loss: 0.5512 - categorical_accuracy: 0.7061 - val_loss: 0.6421 - val_categorical_accuracy: 0.6478\n",
      "Epoch 11/80\n",
      "17s - loss: 0.5087 - categorical_accuracy: 0.7403 - val_loss: 0.6568 - val_categorical_accuracy: 0.6773\n",
      "Epoch 12/80\n",
      "17s - loss: 0.4713 - categorical_accuracy: 0.7669 - val_loss: 0.6653 - val_categorical_accuracy: 0.6905\n",
      "Epoch 13/80\n",
      "16s - loss: 0.4297 - categorical_accuracy: 0.7904 - val_loss: 0.6956 - val_categorical_accuracy: 0.6839\n",
      "Epoch 14/80\n",
      "17s - loss: 0.4031 - categorical_accuracy: 0.8095 - val_loss: 0.6934 - val_categorical_accuracy: 0.6921\n",
      "Epoch 15/80\n",
      "17s - loss: 0.3771 - categorical_accuracy: 0.8292 - val_loss: 0.7191 - val_categorical_accuracy: 0.7020\n",
      "Epoch 16/80\n",
      "16s - loss: 0.3616 - categorical_accuracy: 0.8342 - val_loss: 0.7417 - val_categorical_accuracy: 0.7135\n",
      "Epoch 17/80\n",
      "17s - loss: 0.3417 - categorical_accuracy: 0.8458 - val_loss: 0.7342 - val_categorical_accuracy: 0.7159\n",
      "Epoch 18/80\n",
      "16s - loss: 0.3302 - categorical_accuracy: 0.8547 - val_loss: 0.7429 - val_categorical_accuracy: 0.7061\n",
      "Epoch 19/80\n",
      "16s - loss: 0.3160 - categorical_accuracy: 0.8586 - val_loss: 0.8039 - val_categorical_accuracy: 0.7126\n",
      "Epoch 20/80\n",
      "16s - loss: 0.3015 - categorical_accuracy: 0.8686 - val_loss: 0.8118 - val_categorical_accuracy: 0.7110\n",
      "Epoch 21/80\n",
      "16s - loss: 0.2876 - categorical_accuracy: 0.8734 - val_loss: 0.8587 - val_categorical_accuracy: 0.7217\n",
      "Epoch 22/80\n",
      "16s - loss: 0.2882 - categorical_accuracy: 0.8759 - val_loss: 0.8665 - val_categorical_accuracy: 0.7118\n",
      "Epoch 23/80\n",
      "16s - loss: 0.2699 - categorical_accuracy: 0.8830 - val_loss: 0.9110 - val_categorical_accuracy: 0.7167\n",
      "Epoch 24/80\n",
      "16s - loss: 0.2601 - categorical_accuracy: 0.8878 - val_loss: 0.8886 - val_categorical_accuracy: 0.7143\n",
      "Epoch 25/80\n",
      "16s - loss: 0.2573 - categorical_accuracy: 0.8884 - val_loss: 0.9333 - val_categorical_accuracy: 0.7069\n",
      "Epoch 26/80\n",
      "16s - loss: 0.2448 - categorical_accuracy: 0.8956 - val_loss: 0.9473 - val_categorical_accuracy: 0.7094\n",
      "Epoch 27/80\n",
      "16s - loss: 0.2415 - categorical_accuracy: 0.9007 - val_loss: 0.9461 - val_categorical_accuracy: 0.7151\n",
      "Epoch 28/80\n",
      "16s - loss: 0.2295 - categorical_accuracy: 0.9052 - val_loss: 0.9288 - val_categorical_accuracy: 0.7159\n",
      "Epoch 29/80\n",
      "16s - loss: 0.2361 - categorical_accuracy: 0.9018 - val_loss: 0.9314 - val_categorical_accuracy: 0.7192\n",
      "Epoch 30/80\n",
      "16s - loss: 0.2177 - categorical_accuracy: 0.9064 - val_loss: 1.0005 - val_categorical_accuracy: 0.7167\n",
      "Epoch 31/80\n",
      "16s - loss: 0.2165 - categorical_accuracy: 0.9125 - val_loss: 1.0714 - val_categorical_accuracy: 0.7209\n",
      "Epoch 32/80\n",
      "16s - loss: 0.2156 - categorical_accuracy: 0.9110 - val_loss: 1.0951 - val_categorical_accuracy: 0.7209\n",
      "Epoch 33/80\n",
      "16s - loss: 0.2047 - categorical_accuracy: 0.9139 - val_loss: 1.0116 - val_categorical_accuracy: 0.7307\n",
      "Epoch 34/80\n",
      "16s - loss: 0.1990 - categorical_accuracy: 0.9199 - val_loss: 1.0910 - val_categorical_accuracy: 0.7209\n",
      "Epoch 35/80\n",
      "16s - loss: 0.1969 - categorical_accuracy: 0.9195 - val_loss: 1.0641 - val_categorical_accuracy: 0.7299\n",
      "Epoch 36/80\n",
      "16s - loss: 0.1916 - categorical_accuracy: 0.9229 - val_loss: 1.0798 - val_categorical_accuracy: 0.7274\n",
      "Epoch 37/80\n",
      "16s - loss: 0.1946 - categorical_accuracy: 0.9212 - val_loss: 1.0886 - val_categorical_accuracy: 0.7217\n",
      "Epoch 38/80\n",
      "16s - loss: 0.1870 - categorical_accuracy: 0.9233 - val_loss: 1.0857 - val_categorical_accuracy: 0.7241\n",
      "Epoch 39/80\n",
      "16s - loss: 0.1774 - categorical_accuracy: 0.9291 - val_loss: 1.1346 - val_categorical_accuracy: 0.7299\n",
      "Epoch 40/80\n",
      "16s - loss: 0.1797 - categorical_accuracy: 0.9287 - val_loss: 1.1593 - val_categorical_accuracy: 0.7274\n",
      "Epoch 41/80\n",
      "16s - loss: 0.1792 - categorical_accuracy: 0.9272 - val_loss: 1.1346 - val_categorical_accuracy: 0.7348\n",
      "Epoch 42/80\n",
      "15s - loss: 0.1718 - categorical_accuracy: 0.9316 - val_loss: 1.2013 - val_categorical_accuracy: 0.7233\n",
      "Epoch 43/80\n",
      "15s - loss: 0.1683 - categorical_accuracy: 0.9309 - val_loss: 1.2204 - val_categorical_accuracy: 0.7307\n",
      "Epoch 44/80\n",
      "16s - loss: 0.1701 - categorical_accuracy: 0.9327 - val_loss: 1.2361 - val_categorical_accuracy: 0.7381\n",
      "Epoch 45/80\n",
      "15s - loss: 0.1685 - categorical_accuracy: 0.9345 - val_loss: 1.2374 - val_categorical_accuracy: 0.7307\n",
      "Epoch 46/80\n",
      "15s - loss: 0.1658 - categorical_accuracy: 0.9358 - val_loss: 1.2673 - val_categorical_accuracy: 0.7299\n",
      "Epoch 47/80\n",
      "15s - loss: 0.1528 - categorical_accuracy: 0.9412 - val_loss: 1.2943 - val_categorical_accuracy: 0.7299\n",
      "Epoch 48/80\n",
      "15s - loss: 0.1597 - categorical_accuracy: 0.9372 - val_loss: 1.2200 - val_categorical_accuracy: 0.7315\n",
      "Epoch 49/80\n",
      "15s - loss: 0.1645 - categorical_accuracy: 0.9334 - val_loss: 1.2742 - val_categorical_accuracy: 0.7315\n",
      "Epoch 50/80\n",
      "15s - loss: 0.1549 - categorical_accuracy: 0.9375 - val_loss: 1.2804 - val_categorical_accuracy: 0.7258\n",
      "Epoch 51/80\n",
      "16s - loss: 0.1561 - categorical_accuracy: 0.9383 - val_loss: 1.3517 - val_categorical_accuracy: 0.7200\n",
      "Epoch 52/80\n",
      "16s - loss: 0.1540 - categorical_accuracy: 0.9418 - val_loss: 1.2535 - val_categorical_accuracy: 0.7397\n",
      "Epoch 53/80\n",
      "15s - loss: 0.1472 - categorical_accuracy: 0.9442 - val_loss: 1.2372 - val_categorical_accuracy: 0.7225\n",
      "Epoch 54/80\n",
      "15s - loss: 0.1470 - categorical_accuracy: 0.9425 - val_loss: 1.3010 - val_categorical_accuracy: 0.7233\n",
      "Epoch 55/80\n",
      "15s - loss: 0.1396 - categorical_accuracy: 0.9446 - val_loss: 1.3736 - val_categorical_accuracy: 0.7332\n",
      "Epoch 56/80\n",
      "15s - loss: 0.1395 - categorical_accuracy: 0.9462 - val_loss: 1.3060 - val_categorical_accuracy: 0.7348\n",
      "Epoch 57/80\n",
      "15s - loss: 0.1372 - categorical_accuracy: 0.9456 - val_loss: 1.3188 - val_categorical_accuracy: 0.7373\n",
      "Epoch 58/80\n",
      "15s - loss: 0.1371 - categorical_accuracy: 0.9484 - val_loss: 1.3900 - val_categorical_accuracy: 0.7233\n",
      "Epoch 59/80\n",
      "15s - loss: 0.1343 - categorical_accuracy: 0.9475 - val_loss: 1.3341 - val_categorical_accuracy: 0.7348\n",
      "Epoch 60/80\n",
      "15s - loss: 0.1389 - categorical_accuracy: 0.9459 - val_loss: 1.3440 - val_categorical_accuracy: 0.7315\n",
      "Epoch 61/80\n",
      "15s - loss: 0.1427 - categorical_accuracy: 0.9452 - val_loss: 1.3504 - val_categorical_accuracy: 0.7365\n",
      "Epoch 62/80\n",
      "15s - loss: 0.1278 - categorical_accuracy: 0.9503 - val_loss: 1.3472 - val_categorical_accuracy: 0.7365\n",
      "Epoch 63/80\n",
      "15s - loss: 0.1351 - categorical_accuracy: 0.9460 - val_loss: 1.4081 - val_categorical_accuracy: 0.7291\n",
      "Epoch 64/80\n",
      "16s - loss: 0.1342 - categorical_accuracy: 0.9478 - val_loss: 1.3608 - val_categorical_accuracy: 0.7274\n",
      "Epoch 65/80\n",
      "15s - loss: 0.1288 - categorical_accuracy: 0.9495 - val_loss: 1.4241 - val_categorical_accuracy: 0.7258\n",
      "Epoch 66/80\n",
      "16s - loss: 0.1213 - categorical_accuracy: 0.9529 - val_loss: 1.4929 - val_categorical_accuracy: 0.7291\n",
      "Epoch 67/80\n",
      "15s - loss: 0.1241 - categorical_accuracy: 0.9517 - val_loss: 1.4052 - val_categorical_accuracy: 0.7348\n",
      "Epoch 68/80\n",
      "15s - loss: 0.1198 - categorical_accuracy: 0.9525 - val_loss: 1.4585 - val_categorical_accuracy: 0.7356\n",
      "Epoch 69/80\n",
      "15s - loss: 0.1178 - categorical_accuracy: 0.9546 - val_loss: 1.5008 - val_categorical_accuracy: 0.7241\n",
      "Epoch 70/80\n",
      "15s - loss: 0.1292 - categorical_accuracy: 0.9501 - val_loss: 1.4217 - val_categorical_accuracy: 0.7323\n",
      "Epoch 71/80\n",
      "15s - loss: 0.1193 - categorical_accuracy: 0.9556 - val_loss: 1.4423 - val_categorical_accuracy: 0.7307\n",
      "Epoch 72/80\n",
      "16s - loss: 0.1236 - categorical_accuracy: 0.9528 - val_loss: 1.4556 - val_categorical_accuracy: 0.7422\n",
      "Epoch 73/80\n",
      "15s - loss: 0.1137 - categorical_accuracy: 0.9565 - val_loss: 1.5021 - val_categorical_accuracy: 0.7323\n",
      "Epoch 74/80\n",
      "15s - loss: 0.1234 - categorical_accuracy: 0.9546 - val_loss: 1.4542 - val_categorical_accuracy: 0.7340\n",
      "Epoch 75/80\n",
      "15s - loss: 0.1170 - categorical_accuracy: 0.9535 - val_loss: 1.5219 - val_categorical_accuracy: 0.7365\n",
      "Epoch 76/80\n",
      "15s - loss: 0.1148 - categorical_accuracy: 0.9535 - val_loss: 1.5543 - val_categorical_accuracy: 0.7282\n",
      "Epoch 77/80\n",
      "15s - loss: 0.1126 - categorical_accuracy: 0.9573 - val_loss: 1.4909 - val_categorical_accuracy: 0.7323\n",
      "Epoch 78/80\n",
      "15s - loss: 0.1129 - categorical_accuracy: 0.9567 - val_loss: 1.6072 - val_categorical_accuracy: 0.7282\n",
      "Epoch 79/80\n",
      "15s - loss: 0.1175 - categorical_accuracy: 0.9563 - val_loss: 1.5148 - val_categorical_accuracy: 0.7323\n",
      "Epoch 80/80\n",
      "15s - loss: 0.1118 - categorical_accuracy: 0.9569 - val_loss: 1.6163 - val_categorical_accuracy: 0.7274\n"
     ]
    }
   ],
   "source": [
    "callbacks = [ModelCheckpoint(MODEL_WEIGHTS_FILE, monitor='val_categorical_accuracy', save_best_only=True)]\n",
    "history = model.fit([e_data, d_data], \n",
    "                    labels, \n",
    "                    nb_epoch=80, \n",
    "                    validation_split=VALIDATION_SPLIT, \n",
    "                    verbose=2, \n",
    "                    callbacks=callbacks)"
   ]
  },
  {
   "cell_type": "markdown",
   "metadata": {},
   "source": [
    "## Plot accuracy"
   ]
  },
  {
   "cell_type": "code",
   "execution_count": 19,
   "metadata": {
    "collapsed": false
   },
   "outputs": [
    {
     "data": {
      "image/png": "[encoded data removed]",
      "text/plain": [
       "<matplotlib.figure.Figure at 0x7f09400835f8>"
      ]
     },
     "metadata": {},
     "output_type": "display_data"
    }
   ],
   "source": [
    "acc = pd.DataFrame({'epoch': [ i + 1 for i in history.epoch ],\n",
    "                    'training': history.history['categorical_accuracy'],\n",
    "                    'validation': history.history['val_categorical_accuracy']})\n",
    "ax = acc.ix[:,:].plot(x='epoch', figsize={7,10}, grid=True)\n",
    "ax.set_ylabel(\"categorical accuracy\")\n",
    "ax.set_ylim([0.0,1.0]);"
   ]
  },
  {
   "cell_type": "markdown",
   "metadata": {},
   "source": [
    "## Plot loss"
   ]
  },
  {
   "cell_type": "code",
   "execution_count": 20,
   "metadata": {
    "collapsed": false
   },
   "outputs": [
    {
     "data": {
      "image/png": "[encoded data removed]",
      "text/plain": [
       "<matplotlib.figure.Figure at 0x7f093bffb2b0>"
      ]
     },
     "metadata": {},
     "output_type": "display_data"
    }
   ],
   "source": [
    "loss = pd.DataFrame({'epoch': [ i + 1 for i in history.epoch ],\n",
    "                     'training': history.history['loss'],\n",
    "                     'validation': history.history['val_loss']})\n",
    "ax = loss.ix[:,:].plot(x='epoch', figsize={7,10}, grid=True)\n",
    "ax.set_ylabel(\"loss\")\n",
    "ax.set_ylim([0.0,2.0]);"
   ]
  },
  {
   "cell_type": "markdown",
   "metadata": {
    "collapsed": false
   },
   "source": [
    "## Plot t-SNE visualization of emoji embeddings from softmax model"
   ]
  },
  {
   "cell_type": "code",
   "execution_count": 21,
   "metadata": {
    "collapsed": false
   },
   "outputs": [
    {
     "data": {
      "image/png": "[encoded data removed]",
      "text/plain": [
       "<matplotlib.figure.Figure at 0x7f093bf2f1d0>"
      ]
     },
     "metadata": {},
     "output_type": "display_data"
    }
   ],
   "source": [
    "tsne2 = TSNE(n_components=2, perplexity=30, init='pca', n_iter=5000)\n",
    "weights = P.layers[0].get_weights()[0]\n",
    "fit = tsne2.fit_transform(weights)\n",
    "visualization = pd.DataFrame(fit[1:], columns=['x', 'y'])\n",
    "visualization['emoji'] = emojis_combined_desc['emoji'].values\n",
    "visualization.to_csv(EMOJI_EMB_VIZ_FILE)\n",
    "visualization.plot('x', 'y', kind='scatter');"
   ]
  }
 ],
 "metadata": {
  "anaconda-cloud": {},
  "hide_input": false,
  "kernelspec": {
   "display_name": "Python 3",
   "language": "python",
   "name": "python3"
  },
  "language_info": {
   "codemirror_mode": {
    "name": "ipython",
    "version": 3
   },
   "file_extension": ".py",
   "mimetype": "text/x-python",
   "name": "python",
   "nbconvert_exporter": "python",
   "pygments_lexer": "ipython3",
   "version": "3.4.3"
  }
 },
 "nbformat": 4,
 "nbformat_minor": 0
}
